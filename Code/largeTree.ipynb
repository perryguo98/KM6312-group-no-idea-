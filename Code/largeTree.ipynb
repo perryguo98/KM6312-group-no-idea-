{
 "cells": [
  {
   "cell_type": "code",
   "execution_count": 1,
   "id": "872522a5",
   "metadata": {},
   "outputs": [],
   "source": [
    "import pandas as pd\n",
    "from sklearn.metrics import mean_squared_error\n",
    "from sklearn.metrics import accuracy_score\n",
    "from sklearn.tree import DecisionTreeClassifier\n",
    "from sklearn.tree import DecisionTreeRegressor\n",
    "from sklearn.model_selection import GridSearchCV"
   ]
  },
  {
   "cell_type": "code",
   "execution_count": 2,
   "id": "28fe91cf",
   "metadata": {},
   "outputs": [],
   "source": [
    "#data processing \n",
    "train_df_data = pd.read_csv(\"training_data.csv\", sep=',', index_col=None)\n",
    "train_df_data = train_df_data.drop(columns=['Unnamed: 0', 'school_MS','sex_M','address_R','famsize_GT3','Pstatus_A','schoolsup_no','famsup_no','paid_no','activities_no','nursery_no','higher_no','internet_no','romantic_no'])\n",
    "test_df_data = pd.read_csv(\"testing_data.csv\", sep=',', index_col=None)\n",
    "test_df_data = test_df_data.drop(columns=['Unnamed: 0', 'school_MS','sex_M','address_R','famsize_GT3','Pstatus_A','schoolsup_no','famsup_no','paid_no','activities_no','nursery_no','higher_no','internet_no','romantic_no'])"
   ]
  },
  {
   "cell_type": "code",
   "execution_count": 3,
   "id": "26c6c7a9",
   "metadata": {},
   "outputs": [],
   "source": [
    "#data processing \n",
    "X_train=train_df_data.drop(columns=['G3'])\n",
    "Y_train=train_df_data['G3']\n",
    "X_test=test_df_data.drop(columns=['G3'])\n",
    "Y_test=test_df_data['G3']"
   ]
  },
  {
   "cell_type": "code",
   "execution_count": 4,
   "id": "c8a40c44",
   "metadata": {},
   "outputs": [
    {
     "name": "stdout",
     "output_type": "stream",
     "text": [
      "Param for GS {'max_depth': 5, 'min_samples_leaf': 5, 'min_samples_split': 2}\n",
      "CV score for GS 0.8329397869841451\n"
     ]
    }
   ],
   "source": [
    "param_grid = {\n",
    "    \"max_depth\": [3,5,10,15,20,None],\n",
    "    \"min_samples_split\": [2,5,7,10],\n",
    "    \"min_samples_leaf\": [1,2,5]\n",
    "}\n",
    "\n",
    "clf = DecisionTreeRegressor(random_state=42)\n",
    "grid_cv = GridSearchCV(estimator=clf,param_grid=param_grid).fit(X_train, Y_train)\n",
    "print(\"Param for GS\", grid_cv.best_params_)\n",
    "print(\"CV score for GS\", grid_cv.best_score_)"
   ]
  },
  {
   "cell_type": "code",
   "execution_count": 5,
   "id": "d0fbee6c",
   "metadata": {},
   "outputs": [
    {
     "name": "stdout",
     "output_type": "stream",
     "text": [
      "4.734177215189874\n",
      "3.3411077066648756\n"
     ]
    }
   ],
   "source": [
    "clf.fit(X_train, Y_train)\n",
    "y_testO =clf.predict(X_test)\n",
    "y_testP = grid_cv.predict(X_test)\n",
    "print(mean_squared_error(Y_test,y_testO))\n",
    "print(mean_squared_error(Y_test,y_testP))"
   ]
  },
  {
   "cell_type": "code",
   "execution_count": 6,
   "id": "6f36eb26",
   "metadata": {},
   "outputs": [
    {
     "data": {
      "text/plain": [
       "'largedtree_render.png'"
      ]
     },
     "execution_count": 6,
     "metadata": {},
     "output_type": "execute_result"
    }
   ],
   "source": [
    "from sklearn.tree import export_graphviz\n",
    "\n",
    "dot_data = export_graphviz(grid_cv.best_estimator_, out_file=None, \n",
    "            filled=True, rounded=True, class_names=['0','1','2'],feature_names=X_test.columns)\n",
    "from graphviz import Source\n",
    "graph = Source(dot_data )\n",
    "graph.format = 'png'\n",
    "graph.render('largedtree_render',view=True)"
   ]
  },
  {
   "cell_type": "code",
   "execution_count": null,
   "id": "de059973",
   "metadata": {},
   "outputs": [],
   "source": []
  }
 ],
 "metadata": {
  "kernelspec": {
   "display_name": "Python 3 (ipykernel)",
   "language": "python",
   "name": "python3"
  },
  "language_info": {
   "codemirror_mode": {
    "name": "ipython",
    "version": 3
   },
   "file_extension": ".py",
   "mimetype": "text/x-python",
   "name": "python",
   "nbconvert_exporter": "python",
   "pygments_lexer": "ipython3",
   "version": "3.9.12"
  }
 },
 "nbformat": 4,
 "nbformat_minor": 5
}
