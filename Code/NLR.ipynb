{
 "cells": [
  {
   "cell_type": "code",
   "execution_count": 1,
   "id": "268c917d",
   "metadata": {},
   "outputs": [],
   "source": [
    "import pandas as pd\n",
    "from sklearn.neural_network import MLPClassifier\n",
    "from sklearn.neural_network import MLPRegressor"
   ]
  },
  {
   "cell_type": "code",
   "execution_count": 2,
   "id": "7b261559",
   "metadata": {},
   "outputs": [],
   "source": [
    "#data processing \n",
    "train_df_data = pd.read_csv(\"training_data.csv\", sep=',', index_col=None)\n",
    "train_df_data = train_df_data.drop(columns=['Unnamed: 0', 'school_MS','sex_M','address_R','famsize_GT3','Pstatus_A','schoolsup_no','famsup_no','paid_no','activities_no','nursery_no','higher_no','internet_no','romantic_no'])\n",
    "test_df_data = pd.read_csv(\"testing_data.csv\", sep=',', index_col=None)\n",
    "test_df_data = test_df_data.drop(columns=['Unnamed: 0', 'school_MS','sex_M','address_R','famsize_GT3','Pstatus_A','schoolsup_no','famsup_no','paid_no','activities_no','nursery_no','higher_no','internet_no','romantic_no'])"
   ]
  },
  {
   "cell_type": "code",
   "execution_count": 3,
   "id": "c37ef1fb",
   "metadata": {},
   "outputs": [],
   "source": [
    "#data processing\n",
    "X_train=train_df_data.drop(columns=['G3'])\n",
    "Y_train=train_df_data['G3']\n",
    "X_test=test_df_data.drop(columns=['G3'])\n",
    "Y_test=test_df_data['G3']"
   ]
  },
  {
   "cell_type": "code",
   "execution_count": 7,
   "id": "fab82811",
   "metadata": {
    "scrolled": true
   },
   "outputs": [
    {
     "name": "stdout",
     "output_type": "stream",
     "text": [
      "0.6173974837140681\n"
     ]
    },
    {
     "name": "stderr",
     "output_type": "stream",
     "text": [
      "D:\\a\\lib\\site-packages\\sklearn\\neural_network\\_multilayer_perceptron.py:549: ConvergenceWarning: lbfgs failed to converge (status=1):\n",
      "STOP: TOTAL NO. of ITERATIONS REACHED LIMIT.\n",
      "\n",
      "Increase the number of iterations (max_iter) or scale the data as shown in:\n",
      "    https://scikit-learn.org/stable/modules/preprocessing.html\n",
      "  self.n_iter_ = _check_optimize_result(\"lbfgs\", opt_res, self.max_iter)\n"
     ]
    }
   ],
   "source": [
    "# initialize model by using active function relu\n",
    "mlp_relu = MLPRegressor(solver=\"lbfgs\", hidden_layer_sizes=(100,), activation='relu', max_iter=300, random_state=1)\n",
    "mlp_relu.fit(X_train, Y_train)\n",
    "print(mlp_relu.score(X_test, Y_test))"
   ]
  },
  {
   "cell_type": "code",
   "execution_count": 6,
   "id": "70c397bd",
   "metadata": {},
   "outputs": [
    {
     "name": "stdout",
     "output_type": "stream",
     "text": [
      "0.8309084385695762\n"
     ]
    },
    {
     "name": "stderr",
     "output_type": "stream",
     "text": [
      "D:\\a\\lib\\site-packages\\sklearn\\neural_network\\_multilayer_perceptron.py:549: ConvergenceWarning: lbfgs failed to converge (status=1):\n",
      "STOP: TOTAL NO. of ITERATIONS REACHED LIMIT.\n",
      "\n",
      "Increase the number of iterations (max_iter) or scale the data as shown in:\n",
      "    https://scikit-learn.org/stable/modules/preprocessing.html\n",
      "  self.n_iter_ = _check_optimize_result(\"lbfgs\", opt_res, self.max_iter)\n"
     ]
    }
   ],
   "source": [
    "# initialize model by using active function tanh\n",
    "mlp_tanh = MLPRegressor(solver=\"lbfgs\", hidden_layer_sizes=(100,), activation='tanh', max_iter=500, random_state=1)\n",
    "mlp_tanh.fit(X_train, Y_train)\n",
    "print(mlp_tanh.score(X_test, Y_test))"
   ]
  },
  {
   "cell_type": "code",
   "execution_count": 3,
   "id": "f05455a3",
   "metadata": {},
   "outputs": [],
   "source": [
    "#data processing - WITHOUT ALCOHOL\n",
    "train_df_data2 = pd.read_csv(\"training_data_no_alcohol.csv\", sep=',', index_col=None)\n",
    "train_df_data2 = train_df_data2.drop(columns=['Unnamed: 0', 'school_MS','sex_M','address_R','famsize_GT3','Pstatus_A','schoolsup_no','famsup_no','paid_no','activities_no','nursery_no','higher_no','internet_no','romantic_no'])\n",
    "test_df_data2 = pd.read_csv(\"testing_data_no_alcohol.csv\", sep=',', index_col=None)\n",
    "test_df_data2 = test_df_data2.drop(columns=['Unnamed: 0', 'school_MS','sex_M','address_R','famsize_GT3','Pstatus_A','schoolsup_no','famsup_no','paid_no','activities_no','nursery_no','higher_no','internet_no','romantic_no'])"
   ]
  },
  {
   "cell_type": "code",
   "execution_count": 4,
   "id": "d794235b",
   "metadata": {},
   "outputs": [],
   "source": [
    "#data processing\n",
    "X_train2=train_df_data2.drop(columns=['G3'])\n",
    "Y_train2=train_df_data2['G3']\n",
    "X_test2=test_df_data2.drop(columns=['G3'])\n",
    "Y_test2=test_df_data2['G3']"
   ]
  },
  {
   "cell_type": "code",
   "execution_count": 5,
   "id": "68f183d1",
   "metadata": {},
   "outputs": [
    {
     "name": "stdout",
     "output_type": "stream",
     "text": [
      "0.6466278338184679\n"
     ]
    },
    {
     "name": "stderr",
     "output_type": "stream",
     "text": [
      "D:\\a\\lib\\site-packages\\sklearn\\neural_network\\_multilayer_perceptron.py:549: ConvergenceWarning: lbfgs failed to converge (status=1):\n",
      "STOP: TOTAL NO. of ITERATIONS REACHED LIMIT.\n",
      "\n",
      "Increase the number of iterations (max_iter) or scale the data as shown in:\n",
      "    https://scikit-learn.org/stable/modules/preprocessing.html\n",
      "  self.n_iter_ = _check_optimize_result(\"lbfgs\", opt_res, self.max_iter)\n"
     ]
    }
   ],
   "source": [
    "# initialize model by using active function relu\n",
    "mlp_relu = MLPRegressor(solver=\"lbfgs\", hidden_layer_sizes=(100,), activation='relu', max_iter=300, random_state=1)\n",
    "mlp_relu.fit(X_train2, Y_train2)\n",
    "print(mlp_relu.score(X_test2, Y_test2))"
   ]
  },
  {
   "cell_type": "code",
   "execution_count": 6,
   "id": "cf82b16f",
   "metadata": {},
   "outputs": [
    {
     "name": "stdout",
     "output_type": "stream",
     "text": [
      "0.8133701972810554\n"
     ]
    },
    {
     "name": "stderr",
     "output_type": "stream",
     "text": [
      "D:\\a\\lib\\site-packages\\sklearn\\neural_network\\_multilayer_perceptron.py:549: ConvergenceWarning: lbfgs failed to converge (status=1):\n",
      "STOP: TOTAL NO. of ITERATIONS REACHED LIMIT.\n",
      "\n",
      "Increase the number of iterations (max_iter) or scale the data as shown in:\n",
      "    https://scikit-learn.org/stable/modules/preprocessing.html\n",
      "  self.n_iter_ = _check_optimize_result(\"lbfgs\", opt_res, self.max_iter)\n"
     ]
    }
   ],
   "source": [
    "# initialize model by using active function tanh\n",
    "mlp_tanh = MLPRegressor(solver=\"lbfgs\", hidden_layer_sizes=(100,), activation='tanh', max_iter=500, random_state=1)\n",
    "mlp_tanh.fit(X_train2, Y_train2)\n",
    "print(mlp_tanh.score(X_test2, Y_test2))"
   ]
  },
  {
   "cell_type": "code",
   "execution_count": null,
   "id": "c72ad7e5",
   "metadata": {},
   "outputs": [],
   "source": []
  }
 ],
 "metadata": {
  "kernelspec": {
   "display_name": "Python 3 (ipykernel)",
   "language": "python",
   "name": "python3"
  },
  "language_info": {
   "codemirror_mode": {
    "name": "ipython",
    "version": 3
   },
   "file_extension": ".py",
   "mimetype": "text/x-python",
   "name": "python",
   "nbconvert_exporter": "python",
   "pygments_lexer": "ipython3",
   "version": "3.9.12"
  }
 },
 "nbformat": 4,
 "nbformat_minor": 5
}
