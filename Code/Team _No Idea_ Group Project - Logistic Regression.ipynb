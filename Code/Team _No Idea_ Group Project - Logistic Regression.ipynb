{
 "cells": [
  {
   "cell_type": "markdown",
   "id": "c30b50b5",
   "metadata": {},
   "source": [
    "## Logistic Regression\n",
    "\n",
    "This is expected to develop logistic regression models to predict students having a romantic relationship based on their final grades, absences, failures, the combination of weekend and workday alcohol consumption and other guardians with the same training(70%) and testing(30%) data size. And then respecticely visualize each of the prediction and conduct analysis."
   ]
  },
  {
   "cell_type": "code",
   "execution_count": 1,
   "id": "d1e3669f",
   "metadata": {},
   "outputs": [],
   "source": [
    "import numpy as np\n",
    "import pandas as pd \n",
    "import matplotlib.pyplot as plt\n",
    "from sklearn.model_selection import train_test_split\n",
    "from sklearn.linear_model import LinearRegression\n",
    "from sklearn.linear_model import LogisticRegression\n",
    "from sklearn.metrics import confusion_matrix\n",
    "from sklearn.metrics import accuracy_score, precision_score, recall_score\n",
    "# Metrics\n",
    "from sklearn.metrics import mean_squared_error, mean_absolute_error, median_absolute_error\n",
    "\n",
    "def f(x):\n",
    "   return x*x\n",
    "\n",
    "def mean(x):\n",
    "    return sum(x)/len(x)\n",
    "\n",
    "def RMSE(obs,sim):\n",
    "    m=np.array(obs)-np.array(sim)\n",
    "    n=list(map(f,m))\n",
    "    mse=sum(n)/len(obs)\n",
    "    rmse=mse**0.5/mean(obs)\n",
    "    return rmse\n",
    "\n",
    "def MAE(obs,sim):\n",
    "    m=np.array(obs)-np.array(sim)\n",
    "    n=[abs(data) for data in m]\n",
    "    mae1=sum(n)/len(obs)\n",
    "    mae=mae1/mean(obs)\n",
    "    return mae"
   ]
  },
  {
   "cell_type": "code",
   "execution_count": 2,
   "id": "ce31ecd9",
   "metadata": {},
   "outputs": [],
   "source": [
    "test_df_data = pd.read_csv(\"testing_data.csv\", sep=',', index_col=None)\n",
    "train_df_data = pd.read_csv(\"training_data.csv\", sep=',', index_col=None)\n"
   ]
  },
  {
   "cell_type": "code",
   "execution_count": 3,
   "id": "abfa8bd5",
   "metadata": {},
   "outputs": [
    {
     "data": {
      "text/plain": [
       "Index(['Unnamed: 0', 'school_GP', 'school_MS', 'sex_F', 'sex_M', 'address_R',\n",
       "       'address_U', 'famsize_GT3', 'famsize_LE3', 'Pstatus_A', 'Pstatus_T',\n",
       "       'Mjob_at_home', 'Mjob_health', 'Mjob_other', 'Mjob_services',\n",
       "       'Mjob_teacher', 'Fjob_at_home', 'Fjob_health', 'Fjob_other',\n",
       "       'Fjob_services', 'Fjob_teacher', 'reason_course', 'reason_home',\n",
       "       'reason_other', 'reason_reputation', 'guardian_father',\n",
       "       'guardian_mother', 'guardian_other', 'schoolsup_no', 'schoolsup_yes',\n",
       "       'famsup_no', 'famsup_yes', 'paid_no', 'paid_yes', 'activities_no',\n",
       "       'activities_yes', 'nursery_no', 'nursery_yes', 'higher_no',\n",
       "       'higher_yes', 'internet_no', 'internet_yes', 'romantic_no',\n",
       "       'romantic_yes', 'age', 'Medu', 'Fedu', 'traveltime', 'studytime',\n",
       "       'failures', 'famrel', 'freetime', 'goout', 'Dalc', 'Walc', 'health',\n",
       "       'absences', 'G1', 'G2', 'G3', 'Finalc'],\n",
       "      dtype='object')"
      ]
     },
     "execution_count": 3,
     "metadata": {},
     "output_type": "execute_result"
    }
   ],
   "source": [
    "df_used = pd.get_dummies(test_df_data)\n",
    "df_used.columns\n",
    "\n",
    "df_used = pd.get_dummies(train_df_data)\n",
    "df_used.columns"
   ]
  },
  {
   "cell_type": "markdown",
   "id": "ec9e33f4",
   "metadata": {},
   "source": [
    "## Use 'G3' to predict 'romantic_yes' and visualization"
   ]
  },
  {
   "cell_type": "markdown",
   "id": "545b848b",
   "metadata": {},
   "source": [
    "## Model"
   ]
  },
  {
   "cell_type": "code",
   "execution_count": 4,
   "id": "4d79b68e",
   "metadata": {},
   "outputs": [],
   "source": [
    "x_test=test_df_data[['G3']]\n",
    "x_test=x_test.values.reshape(-1,1)\n",
    "y_test=test_df_data[['romantic_yes']]\n",
    "y_test=y_test.values.reshape(-1,1)\n",
    "\n",
    "\n",
    "x_train=train_df_data[['G3']] \n",
    "x_train=x_train.values.reshape(-1,1)\n",
    "y_train=train_df_data[['romantic_yes']]\n",
    "y_train=y_train.values.reshape(-1,1)"
   ]
  },
  {
   "cell_type": "code",
   "execution_count": 5,
   "id": "bc240be0",
   "metadata": {},
   "outputs": [
    {
     "name": "stdout",
     "output_type": "stream",
     "text": [
      "accuracy:\n",
      "0.5822784810126582\n"
     ]
    },
    {
     "name": "stderr",
     "output_type": "stream",
     "text": [
      "/Users/hesong/opt/anaconda3/lib/python3.9/site-packages/sklearn/utils/validation.py:993: DataConversionWarning: A column-vector y was passed when a 1d array was expected. Please change the shape of y to (n_samples, ), for example using ravel().\n",
      "  y = column_or_1d(y, warn=True)\n"
     ]
    }
   ],
   "source": [
    "modelLR=LogisticRegression()\n",
    "modelLR.fit(x_train,y_train)\n",
    "print('accuracy:')\n",
    "print(modelLR.score(x_test,y_test))"
   ]
  },
  {
   "cell_type": "code",
   "execution_count": 6,
   "id": "7e6854c9",
   "metadata": {},
   "outputs": [
    {
     "name": "stdout",
     "output_type": "stream",
     "text": [
      "[0 0 0 0 0 0 0 0 0 0 0 0 0 0 0 0 0 0 0 0 0 0 0 0 0 0 0 0 0 0 0 0 0 0 0 0 0\n",
      " 0 0 0 0 0 0 0 0 0 0 0 0 0 0 0 0 0 0 0 0 0 0 0 0 0 0 0 0 0 0 0 0 0 0 0 0 0\n",
      " 0 0 0 0 0]\n",
      "0.4177215189873418\n",
      "Precision:0.0\n",
      "Recall:0.0\n"
     ]
    },
    {
     "name": "stderr",
     "output_type": "stream",
     "text": [
      "/Users/hesong/opt/anaconda3/lib/python3.9/site-packages/sklearn/metrics/_classification.py:1318: UndefinedMetricWarning: Precision is ill-defined and being set to 0.0 due to no predicted samples. Use `zero_division` parameter to control this behavior.\n",
      "  _warn_prf(average, modifier, msg_start, len(result))\n"
     ]
    }
   ],
   "source": [
    "predictions = modelLR.predict(x_test)\n",
    "\n",
    "print(predictions)\n",
    "\n",
    "print(mean_squared_error(predictions, y_test))\n",
    "\n",
    "print(\"Precision:{}\".format(precision_score(y_test, predictions)))\n",
    "print(\"Recall:{}\".format(recall_score(y_test, predictions)))"
   ]
  },
  {
   "cell_type": "code",
   "execution_count": 7,
   "id": "cb1364a1",
   "metadata": {},
   "outputs": [
    {
     "name": "stdout",
     "output_type": "stream",
     "text": [
      "equation:1/(1+exp-(-0.317462+-0.045135*x))\n"
     ]
    }
   ],
   "source": [
    "#First find the regression function y=a+bx, and then substitute it into the logistic function pred_y=1/(1+np.exp(-y))\n",
    "b=modelLR.coef_\n",
    "a=modelLR.intercept_\n",
    "print('equation:1/(1+exp-(%f+%f*x))'%(a,b))"
   ]
  },
  {
   "cell_type": "code",
   "execution_count": 8,
   "id": "ed5c17b7",
   "metadata": {},
   "outputs": [
    {
     "data": {
      "image/png": "[encoded data removed]",
      "text/plain": [
       "<Figure size 432x288 with 1 Axes>"
      ]
     },
     "metadata": {
      "needs_background": "light"
     },
     "output_type": "display_data"
    }
   ],
   "source": [
    "plt.scatter(x_train,y_train,color='b',label='train data')\n",
    "plt.scatter(x_test,y_test,color='r',label='test data')\n",
    "plt.plot(x_test,1/(1+np.exp(-(a+b*x_test))),color='r')\n",
    "plt.plot(x_train,1/(1+np.exp(-(a+b*x_train))),color='y')\n",
    "plt.legend(loc=1)\n",
    "plt.xlabel('G3')\n",
    "plt.ylabel('romantic_yes')\n",
    "plt.show()"
   ]
  },
  {
   "cell_type": "markdown",
   "id": "85bad0bc",
   "metadata": {},
   "source": [
    "## Use 'Finalc' to predict 'romantic_yes' and visualization"
   ]
  },
  {
   "cell_type": "code",
   "execution_count": 9,
   "id": "932d5edf",
   "metadata": {},
   "outputs": [],
   "source": [
    "x_test=test_df_data[['Finalc']]\n",
    "x_test=x_test.values.reshape(-1,1)\n",
    "y_test=test_df_data[['romantic_yes']]\n",
    "y_test=y_test.values.reshape(-1,1)\n",
    "\n",
    "\n",
    "x_train=train_df_data[['Finalc']] \n",
    "x_train=x_train.values.reshape(-1,1)\n",
    "y_train=train_df_data[['romantic_yes']]\n",
    "y_train=y_train.values.reshape(-1,1)"
   ]
  },
  {
   "cell_type": "code",
   "execution_count": 10,
   "id": "22df19de",
   "metadata": {},
   "outputs": [
    {
     "name": "stdout",
     "output_type": "stream",
     "text": [
      "accuracy:\n",
      "0.5822784810126582\n"
     ]
    },
    {
     "name": "stderr",
     "output_type": "stream",
     "text": [
      "/Users/hesong/opt/anaconda3/lib/python3.9/site-packages/sklearn/utils/validation.py:993: DataConversionWarning: A column-vector y was passed when a 1d array was expected. Please change the shape of y to (n_samples, ), for example using ravel().\n",
      "  y = column_or_1d(y, warn=True)\n"
     ]
    }
   ],
   "source": [
    "modelLR=LogisticRegression()\n",
    "modelLR.fit(x_train,y_train)\n",
    "print('accuracy:')\n",
    "print(modelLR.score(x_test,y_test))"
   ]
  },
  {
   "cell_type": "code",
   "execution_count": 11,
   "id": "b82f40ec",
   "metadata": {},
   "outputs": [
    {
     "name": "stdout",
     "output_type": "stream",
     "text": [
      "[0 0 0 0 0 0 0 0 0 0 0 0 0 0 0 0 0 0 0 0 0 0 0 0 0 0 0 0 0 0 0 0 0 0 0 0 0\n",
      " 0 0 0 0 0 0 0 0 0 0 0 0 0 0 0 0 0 0 0 0 0 0 0 0 0 0 0 0 0 0 0 0 0 0 0 0 0\n",
      " 0 0 0 0 0]\n",
      "0.4177215189873418\n",
      "Precision:0.0\n",
      "Recall:0.0\n"
     ]
    },
    {
     "name": "stderr",
     "output_type": "stream",
     "text": [
      "/Users/hesong/opt/anaconda3/lib/python3.9/site-packages/sklearn/metrics/_classification.py:1318: UndefinedMetricWarning: Precision is ill-defined and being set to 0.0 due to no predicted samples. Use `zero_division` parameter to control this behavior.\n",
      "  _warn_prf(average, modifier, msg_start, len(result))\n"
     ]
    }
   ],
   "source": [
    "predictions = modelLR.predict(x_test)\n",
    "\n",
    "print(predictions)\n",
    "\n",
    "print(mean_squared_error(predictions, y_test))\n",
    "\n",
    "print(\"Precision:{}\".format(precision_score(y_test, predictions)))\n",
    "print(\"Recall:{}\".format(recall_score(y_test, predictions)))"
   ]
  },
  {
   "cell_type": "code",
   "execution_count": 12,
   "id": "9f3c13e1",
   "metadata": {},
   "outputs": [
    {
     "name": "stdout",
     "output_type": "stream",
     "text": [
      "equation:1/(1+exp-(-0.964800+0.046605*x))\n"
     ]
    }
   ],
   "source": [
    "#First find the regression function y=a+bx, and then substitute it into the logistic function pred_y=1/(1+np.exp(-y))\n",
    "b=modelLR.coef_\n",
    "a=modelLR.intercept_\n",
    "print('equation:1/(1+exp-(%f+%f*x))'%(a,b))"
   ]
  },
  {
   "cell_type": "code",
   "execution_count": 13,
   "id": "695beec0",
   "metadata": {},
   "outputs": [
    {
     "data": {
      "image/png": "[encoded data removed]",
      "text/plain": [
       "<Figure size 432x288 with 1 Axes>"
      ]
     },
     "metadata": {
      "needs_background": "light"
     },
     "output_type": "display_data"
    }
   ],
   "source": [
    "plt.scatter(x_train,y_train,color='b',label='train data')\n",
    "plt.scatter(x_test,y_test,color='r',label='test data')\n",
    "plt.plot(x_test,1/(1+np.exp(-(a+b*x_test))),color='r')\n",
    "plt.plot(x_train,1/(1+np.exp(-(a+b*x_train))),color='y')\n",
    "plt.legend(loc=1)\n",
    "plt.xlabel('Finalc')\n",
    "plt.ylabel('romantic_yes')\n",
    "plt.show()"
   ]
  },
  {
   "cell_type": "markdown",
   "id": "e6da0cf4",
   "metadata": {},
   "source": [
    "## Use 'absences' to predict 'romantic_yes' and visualization"
   ]
  },
  {
   "cell_type": "code",
   "execution_count": 14,
   "id": "ac8c7a0b",
   "metadata": {},
   "outputs": [],
   "source": [
    "x_test=test_df_data[['absences']]\n",
    "x_test=x_test.values.reshape(-1,1)\n",
    "y_test=test_df_data[['romantic_yes']]\n",
    "y_test=y_test.values.reshape(-1,1)\n",
    "\n",
    "\n",
    "x_train=train_df_data[['absences']] \n",
    "x_train=x_train.values.reshape(-1,1)\n",
    "y_train=train_df_data[['romantic_yes']]\n",
    "y_train=y_train.values.reshape(-1,1)"
   ]
  },
  {
   "cell_type": "code",
   "execution_count": 15,
   "id": "f0897947",
   "metadata": {},
   "outputs": [
    {
     "name": "stdout",
     "output_type": "stream",
     "text": [
      "accuracy:\n",
      "0.620253164556962\n"
     ]
    },
    {
     "name": "stderr",
     "output_type": "stream",
     "text": [
      "/Users/hesong/opt/anaconda3/lib/python3.9/site-packages/sklearn/utils/validation.py:993: DataConversionWarning: A column-vector y was passed when a 1d array was expected. Please change the shape of y to (n_samples, ), for example using ravel().\n",
      "  y = column_or_1d(y, warn=True)\n"
     ]
    }
   ],
   "source": [
    "modelLR=LogisticRegression()\n",
    "modelLR.fit(x_train,y_train)\n",
    "print('accuracy:')\n",
    "print(modelLR.score(x_test,y_test))"
   ]
  },
  {
   "cell_type": "code",
   "execution_count": 16,
   "id": "9a1b4e4b",
   "metadata": {},
   "outputs": [
    {
     "name": "stdout",
     "output_type": "stream",
     "text": [
      "[0 0 0 0 1 0 0 0 0 0 0 0 0 0 0 0 0 0 0 0 0 0 0 0 0 0 0 0 0 0 0 0 0 0 0 0 0\n",
      " 0 0 1 0 0 0 0 0 0 0 0 0 0 0 0 0 0 0 0 0 0 0 0 1 0 0 0 0 0 0 0 0 0 0 0 0 0\n",
      " 0 0 0 0 0]\n",
      "0.379746835443038\n",
      "Precision:1.0\n",
      "Recall:0.09090909090909091\n"
     ]
    }
   ],
   "source": [
    "predictions = modelLR.predict(x_test)\n",
    "\n",
    "print(predictions)\n",
    "\n",
    "print(mean_squared_error(predictions, y_test))\n",
    "\n",
    "print(\"Precision:{}\".format(precision_score(y_test, predictions)))\n",
    "print(\"Recall:{}\".format(recall_score(y_test, predictions)))"
   ]
  },
  {
   "cell_type": "code",
   "execution_count": 17,
   "id": "ecf219e5",
   "metadata": {},
   "outputs": [
    {
     "name": "stdout",
     "output_type": "stream",
     "text": [
      "equation:1/(1+exp-(-1.026135+0.040801*x))\n"
     ]
    }
   ],
   "source": [
    "#First find the regression function y=a+bx, and then substitute it into the logistic function pred_y=1/(1+np.exp(-y))\n",
    "b=modelLR.coef_\n",
    "a=modelLR.intercept_\n",
    "print('equation:1/(1+exp-(%f+%f*x))'%(a,b))"
   ]
  },
  {
   "cell_type": "code",
   "execution_count": 18,
   "id": "6a7c1be3",
   "metadata": {},
   "outputs": [
    {
     "data": {
      "image/png": "[encoded data removed]",
      "text/plain": [
       "<Figure size 432x288 with 1 Axes>"
      ]
     },
     "metadata": {
      "needs_background": "light"
     },
     "output_type": "display_data"
    }
   ],
   "source": [
    "plt.scatter(x_train,y_train,color='b',label='train data')\n",
    "plt.scatter(x_test,y_test,color='r',label='test data')\n",
    "plt.plot(x_test,1/(1+np.exp(-(a+b*x_test))),color='r')\n",
    "plt.plot(x_train,1/(1+np.exp(-(a+b*x_train))),color='y')\n",
    "plt.legend(loc=1)\n",
    "plt.xlabel('absences')\n",
    "plt.ylabel('romantic_yes')\n",
    "plt.show()"
   ]
  },
  {
   "cell_type": "markdown",
   "id": "b5455598",
   "metadata": {},
   "source": [
    "## Use 'failures' to predict 'romantic_yes' and visualization"
   ]
  },
  {
   "cell_type": "code",
   "execution_count": 19,
   "id": "bc50d5a4",
   "metadata": {},
   "outputs": [],
   "source": [
    "x_test=test_df_data[['failures']]\n",
    "x_test=x_test.values.reshape(-1,1)\n",
    "y_test=test_df_data[['romantic_yes']]\n",
    "y_test=y_test.values.reshape(-1,1)\n",
    "\n",
    "\n",
    "x_train=train_df_data[['failures']] \n",
    "x_train=x_train.values.reshape(-1,1)\n",
    "y_train=train_df_data[['romantic_yes']]\n",
    "y_train=y_train.values.reshape(-1,1)"
   ]
  },
  {
   "cell_type": "code",
   "execution_count": 20,
   "id": "92ead1d6",
   "metadata": {},
   "outputs": [
    {
     "name": "stdout",
     "output_type": "stream",
     "text": [
      "accuracy:\n",
      "0.5822784810126582\n"
     ]
    },
    {
     "name": "stderr",
     "output_type": "stream",
     "text": [
      "/Users/hesong/opt/anaconda3/lib/python3.9/site-packages/sklearn/utils/validation.py:993: DataConversionWarning: A column-vector y was passed when a 1d array was expected. Please change the shape of y to (n_samples, ), for example using ravel().\n",
      "  y = column_or_1d(y, warn=True)\n"
     ]
    }
   ],
   "source": [
    "modelLR=LogisticRegression()\n",
    "modelLR.fit(x_train,y_train)\n",
    "print('accuracy:')\n",
    "print(modelLR.score(x_test,y_test))"
   ]
  },
  {
   "cell_type": "code",
   "execution_count": 21,
   "id": "d2b610e4",
   "metadata": {},
   "outputs": [
    {
     "name": "stdout",
     "output_type": "stream",
     "text": [
      "[0 0 0 0 0 0 0 0 0 0 0 0 0 0 0 0 0 0 0 0 0 0 0 0 0 0 0 0 0 0 0 0 0 0 0 0 0\n",
      " 0 0 0 0 0 0 0 0 0 0 0 0 0 0 0 0 0 0 0 0 0 0 0 0 0 0 0 0 0 0 0 0 0 0 0 0 0\n",
      " 0 0 0 0 0]\n",
      "0.4177215189873418\n",
      "Precision:0.0\n",
      "Recall:0.0\n"
     ]
    },
    {
     "name": "stderr",
     "output_type": "stream",
     "text": [
      "/Users/hesong/opt/anaconda3/lib/python3.9/site-packages/sklearn/metrics/_classification.py:1318: UndefinedMetricWarning: Precision is ill-defined and being set to 0.0 due to no predicted samples. Use `zero_division` parameter to control this behavior.\n",
      "  _warn_prf(average, modifier, msg_start, len(result))\n"
     ]
    }
   ],
   "source": [
    "predictions = modelLR.predict(x_test)\n",
    "\n",
    "print(predictions)\n",
    "\n",
    "print(mean_squared_error(predictions, y_test))\n",
    "\n",
    "print(\"Precision:{}\".format(precision_score(y_test, predictions)))\n",
    "print(\"Recall:{}\".format(recall_score(y_test, predictions)))"
   ]
  },
  {
   "cell_type": "code",
   "execution_count": 22,
   "id": "4370f6ef",
   "metadata": {},
   "outputs": [
    {
     "name": "stdout",
     "output_type": "stream",
     "text": [
      "equation:1/(1+exp-(-0.841481+0.165998*x))\n"
     ]
    }
   ],
   "source": [
    "#First find the regression function y=a+bx, and then substitute it into the logistic function pred_y=1/(1+np.exp(-y))\n",
    "b=modelLR.coef_\n",
    "a=modelLR.intercept_\n",
    "print('equation:1/(1+exp-(%f+%f*x))'%(a,b))"
   ]
  },
  {
   "cell_type": "code",
   "execution_count": 23,
   "id": "374af2b9",
   "metadata": {},
   "outputs": [
    {
     "data": {
      "image/png": "[encoded data removed]",
      "text/plain": [
       "<Figure size 432x288 with 1 Axes>"
      ]
     },
     "metadata": {
      "needs_background": "light"
     },
     "output_type": "display_data"
    }
   ],
   "source": [
    "plt.scatter(x_train,y_train,color='b',label='train data')\n",
    "plt.scatter(x_test,y_test,color='r',label='test data')\n",
    "plt.plot(x_test,1/(1+np.exp(-(a+b*x_test))),color='r')\n",
    "plt.plot(x_train,1/(1+np.exp(-(a+b*x_train))),color='y')\n",
    "plt.legend(loc=1)\n",
    "plt.xlabel('failures')\n",
    "plt.ylabel('romantic_yes')\n",
    "plt.show()"
   ]
  },
  {
   "cell_type": "markdown",
   "id": "e686ef8f",
   "metadata": {},
   "source": [
    "## Use 'guardian_other' to predict 'romantic_yes' and visualization"
   ]
  },
  {
   "cell_type": "code",
   "execution_count": 24,
   "id": "fc2e3e4d",
   "metadata": {},
   "outputs": [],
   "source": [
    "x_test=test_df_data[['guardian_other']]\n",
    "x_test=x_test.values.reshape(-1,1)\n",
    "y_test=test_df_data[['romantic_yes']]\n",
    "y_test=y_test.values.reshape(-1,1)\n",
    "\n",
    "\n",
    "x_train=train_df_data[['guardian_other']] \n",
    "x_train=x_train.values.reshape(-1,1)\n",
    "y_train=train_df_data[['romantic_yes']]\n",
    "y_train=y_train.values.reshape(-1,1)"
   ]
  },
  {
   "cell_type": "code",
   "execution_count": 25,
   "id": "8c697c17",
   "metadata": {},
   "outputs": [
    {
     "name": "stdout",
     "output_type": "stream",
     "text": [
      "accuracy:\n",
      "0.569620253164557\n"
     ]
    },
    {
     "name": "stderr",
     "output_type": "stream",
     "text": [
      "/Users/hesong/opt/anaconda3/lib/python3.9/site-packages/sklearn/utils/validation.py:993: DataConversionWarning: A column-vector y was passed when a 1d array was expected. Please change the shape of y to (n_samples, ), for example using ravel().\n",
      "  y = column_or_1d(y, warn=True)\n"
     ]
    }
   ],
   "source": [
    "modelLR=LogisticRegression()\n",
    "modelLR.fit(x_train,y_train)\n",
    "print('accuracy:')\n",
    "print(modelLR.score(x_test,y_test))"
   ]
  },
  {
   "cell_type": "code",
   "execution_count": 26,
   "id": "9499548a",
   "metadata": {},
   "outputs": [
    {
     "name": "stdout",
     "output_type": "stream",
     "text": [
      "[0 0 0 0 0 1 0 0 1 0 0 0 0 1 0 0 0 0 0 0 0 0 0 1 0 0 0 0 0 0 0 0 0 0 0 0 0\n",
      " 0 0 0 1 0 0 0 0 0 0 0 0 0 0 0 0 0 1 0 0 0 0 0 1 0 0 0 0 0 0 0 0 0 0 0 0 0\n",
      " 0 0 0 0 0]\n",
      "0.43037974683544306\n",
      "Precision:0.42857142857142855\n",
      "Recall:0.09090909090909091\n"
     ]
    }
   ],
   "source": [
    "predictions = modelLR.predict(x_test)\n",
    "\n",
    "print(predictions)\n",
    "\n",
    "print(mean_squared_error(predictions, y_test))\n",
    "\n",
    "print(\"Precision:{}\".format(precision_score(y_test, predictions)))\n",
    "print(\"Recall:{}\".format(recall_score(y_test, predictions)))"
   ]
  },
  {
   "cell_type": "code",
   "execution_count": 27,
   "id": "aecf0634",
   "metadata": {},
   "outputs": [
    {
     "name": "stdout",
     "output_type": "stream",
     "text": [
      "equation:1/(1+exp-(-0.869383+0.956412*x))\n"
     ]
    }
   ],
   "source": [
    "#First find the regression function y=a+bx, and then substitute it into the logistic function pred_y=1/(1+np.exp(-y))\n",
    "b=modelLR.coef_\n",
    "a=modelLR.intercept_\n",
    "print('equation:1/(1+exp-(%f+%f*x))'%(a,b))"
   ]
  },
  {
   "cell_type": "code",
   "execution_count": 28,
   "id": "b9ddd39c",
   "metadata": {},
   "outputs": [
    {
     "data": {
      "image/png": "[encoded data removed]",
      "text/plain": [
       "<Figure size 432x288 with 1 Axes>"
      ]
     },
     "metadata": {
      "needs_background": "light"
     },
     "output_type": "display_data"
    }
   ],
   "source": [
    "plt.scatter(x_train,y_train,color='b',label='train data')\n",
    "plt.scatter(x_test,y_test,color='r',label='test data')\n",
    "plt.plot(x_test,1/(1+np.exp(-(a+b*x_test))),color='r')\n",
    "plt.plot(x_train,1/(1+np.exp(-(a+b*x_train))),color='y')\n",
    "plt.legend(loc=1)\n",
    "plt.xlabel('guardian_other')\n",
    "plt.ylabel('romantic_yes')\n",
    "plt.show()"
   ]
  }
 ],
 "metadata": {
  "kernelspec": {
   "display_name": "Python 3 (ipykernel)",
   "language": "python",
   "name": "python3"
  },
  "language_info": {
   "codemirror_mode": {
    "name": "ipython",
    "version": 3
   },
   "file_extension": ".py",
   "mimetype": "text/x-python",
   "name": "python",
   "nbconvert_exporter": "python",
   "pygments_lexer": "ipython3",
   "version": "3.9.12"
  }
 },
 "nbformat": 4,
 "nbformat_minor": 5
}
